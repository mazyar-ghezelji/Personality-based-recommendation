{
 "cells": [
  {
   "cell_type": "code",
   "execution_count": 1,
   "metadata": {
    "_cell_guid": "b1076dfc-b9ad-4769-8c92-a6c4dae69d19",
    "_uuid": "8f2839f25d086af736a60e9eeb907d3b93b6e0e5",
    "execution": {
     "iopub.execute_input": "2023-08-24T19:14:53.316557Z",
     "iopub.status.busy": "2023-08-24T19:14:53.315870Z",
     "iopub.status.idle": "2023-08-24T19:14:55.465033Z",
     "shell.execute_reply": "2023-08-24T19:14:55.464104Z",
     "shell.execute_reply.started": "2023-08-24T19:14:53.316490Z"
    }
   },
   "outputs": [],
   "source": [
    "# This Python 3 environment comes with many helpful analytics libraries installed\n",
    "# It is defined by the kaggle/python docker image: https://github.com/kaggle/docker-python\n",
    "# For example, here's several helpful packages to load in \n",
    "\n",
    "import numpy as np # linear algebra\n",
    "import pandas as pd # data processing, CSV file I/O (e.g. pd.read_csv)\n",
    "import matplotlib.pyplot as plt\n",
    "import surprise as srp\n",
    "import os"
   ]
  },
  {
   "cell_type": "markdown",
   "metadata": {},
   "source": [
    "## download and clean data"
   ]
  },
  {
   "cell_type": "code",
   "execution_count": 2,
   "metadata": {
    "_cell_guid": "79c7e3d0-c299-4dcb-8224-4455121ee9b0",
    "_uuid": "d629ff2d2480ee46fbb7e2d37f6b5fab8052498a",
    "execution": {
     "iopub.execute_input": "2023-08-24T19:14:59.238594Z",
     "iopub.status.busy": "2023-08-24T19:14:59.238089Z",
     "iopub.status.idle": "2023-08-24T19:14:59.331949Z",
     "shell.execute_reply": "2023-08-24T19:14:59.330959Z",
     "shell.execute_reply.started": "2023-08-24T19:14:59.238540Z"
    }
   },
   "outputs": [],
   "source": [
    "data = pd.read_table('/kaggle/input/movielens-100k-dataset/ml-100k/u1.base',header=None)"
   ]
  },
  {
   "cell_type": "code",
   "execution_count": 3,
   "metadata": {
    "execution": {
     "iopub.execute_input": "2023-08-24T19:15:00.020645Z",
     "iopub.status.busy": "2023-08-24T19:15:00.020311Z",
     "iopub.status.idle": "2023-08-24T19:15:00.051825Z",
     "shell.execute_reply": "2023-08-24T19:15:00.050726Z",
     "shell.execute_reply.started": "2023-08-24T19:15:00.020611Z"
    }
   },
   "outputs": [
    {
     "data": {
      "text/html": [
       "<div>\n",
       "<style scoped>\n",
       "    .dataframe tbody tr th:only-of-type {\n",
       "        vertical-align: middle;\n",
       "    }\n",
       "\n",
       "    .dataframe tbody tr th {\n",
       "        vertical-align: top;\n",
       "    }\n",
       "\n",
       "    .dataframe thead th {\n",
       "        text-align: right;\n",
       "    }\n",
       "</style>\n",
       "<table border=\"1\" class=\"dataframe\">\n",
       "  <thead>\n",
       "    <tr style=\"text-align: right;\">\n",
       "      <th></th>\n",
       "      <th>0</th>\n",
       "      <th>1</th>\n",
       "      <th>2</th>\n",
       "      <th>3</th>\n",
       "    </tr>\n",
       "  </thead>\n",
       "  <tbody>\n",
       "    <tr>\n",
       "      <th>0</th>\n",
       "      <td>1</td>\n",
       "      <td>1</td>\n",
       "      <td>5</td>\n",
       "      <td>874965758</td>\n",
       "    </tr>\n",
       "    <tr>\n",
       "      <th>1</th>\n",
       "      <td>1</td>\n",
       "      <td>2</td>\n",
       "      <td>3</td>\n",
       "      <td>876893171</td>\n",
       "    </tr>\n",
       "    <tr>\n",
       "      <th>2</th>\n",
       "      <td>1</td>\n",
       "      <td>3</td>\n",
       "      <td>4</td>\n",
       "      <td>878542960</td>\n",
       "    </tr>\n",
       "    <tr>\n",
       "      <th>3</th>\n",
       "      <td>1</td>\n",
       "      <td>4</td>\n",
       "      <td>3</td>\n",
       "      <td>876893119</td>\n",
       "    </tr>\n",
       "    <tr>\n",
       "      <th>4</th>\n",
       "      <td>1</td>\n",
       "      <td>5</td>\n",
       "      <td>3</td>\n",
       "      <td>889751712</td>\n",
       "    </tr>\n",
       "  </tbody>\n",
       "</table>\n",
       "</div>"
      ],
      "text/plain": [
       "   0  1  2          3\n",
       "0  1  1  5  874965758\n",
       "1  1  2  3  876893171\n",
       "2  1  3  4  878542960\n",
       "3  1  4  3  876893119\n",
       "4  1  5  3  889751712"
      ]
     },
     "execution_count": 3,
     "metadata": {},
     "output_type": "execute_result"
    }
   ],
   "source": [
    "data.head()"
   ]
  },
  {
   "cell_type": "code",
   "execution_count": 4,
   "metadata": {
    "execution": {
     "iopub.execute_input": "2023-08-24T19:15:01.054336Z",
     "iopub.status.busy": "2023-08-24T19:15:01.053987Z"
    }
   },
   "outputs": [
    {
     "name": "stdout",
     "output_type": "stream",
     "text": [
      "svd algorithm\n",
      "RMSE: 0.9484\n",
      "RMSE: 0.9397\n",
      "RMSE: 0.9342\n",
      "RMSE: 0.9307\n",
      "RMSE: 0.9337\n",
      "svdpp algorithm\n",
      "RMSE: 0.9318\n",
      "RMSE: 0.9227\n",
      "RMSE: 0.9162\n",
      "RMSE: 0.9158\n",
      "RMSE: 0.9175\n"
     ]
    }
   ],
   "source": [
    "files_dir = os.path.expanduser('/kaggle/input/movielens-100k-dataset/ml-100k/')\n",
    "\n",
    "reader = srp.Reader('ml-100k')\n",
    "train_file = files_dir + 'u%d.base'\n",
    "test_file = files_dir + 'u%d.test'\n",
    "folds_files = [(train_file % i, test_file % i) for i in (1, 2, 3, 4, 5)]\n",
    "\n",
    "data = srp.Dataset.load_from_folds(folds_files, reader=reader)\n",
    "pkf = srp.model_selection.PredefinedKFold()\n",
    "\n",
    "algo = srp.SVD()\n",
    "print('svd algorithm')\n",
    "for trainset, testset in pkf.split(data):\n",
    "\n",
    "    algo.fit(trainset)\n",
    "    predictions = algo.test(testset)\n",
    "\n",
    "    srp.accuracy.rmse(predictions, verbose=True)\n",
    "    \n",
    "    \n",
    "algo = srp.SVDpp()\n",
    "print('svdpp algorithm')\n",
    "for trainset, testset in pkf.split(data):\n",
    "\n",
    "    algo.fit(trainset)\n",
    "    predictions = algo.test(testset)\n",
    "\n",
    "    srp.accuracy.rmse(predictions, verbose=True)"
   ]
  },
  {
   "cell_type": "markdown",
   "metadata": {},
   "source": [
    "---------"
   ]
  },
  {
   "cell_type": "markdown",
   "metadata": {},
   "source": [
    "--------"
   ]
  },
  {
   "cell_type": "code",
   "execution_count": 5,
   "metadata": {},
   "outputs": [],
   "source": [
    "def mean(a):\n",
    "    counter=0\n",
    "    s=0\n",
    "    for i in a:\n",
    "        if i!=0:\n",
    "            counter+=1\n",
    "            s+=i\n",
    "    return s/counter"
   ]
  },
  {
   "cell_type": "code",
   "execution_count": 6,
   "metadata": {},
   "outputs": [],
   "source": [
    "def rating_mean(G):\n",
    "    s=0\n",
    "    counter=0\n",
    "    for i in G:\n",
    "        for j in i:\n",
    "            if j!=0:\n",
    "                s+=j\n",
    "                counter+=1\n",
    "    return s/counter"
   ]
  },
  {
   "cell_type": "code",
   "execution_count": 7,
   "metadata": {},
   "outputs": [],
   "source": [
    "def optimism(G,index,G_mean):\n",
    "    user_index=index\n",
    "    s1=0\n",
    "    s2=0\n",
    "    for i in range(len(G[user_index])):\n",
    "        if G[user_index][i] !=0 and mean(G[:,i])<=3:\n",
    "            s2+=1\n",
    "            if G[user_index][i]>3:\n",
    "                s1+=1\n",
    "    if s2==0:\n",
    "        return 0\n",
    "    else:\n",
    "        return s1/s2"
   ]
  },
  {
   "cell_type": "code",
   "execution_count": 8,
   "metadata": {},
   "outputs": [],
   "source": [
    "def pessimism(G,index,G_mean):\n",
    "    user_index=index\n",
    "    s1=0\n",
    "    s2=0\n",
    "    for i in range(len(G[user_index])):\n",
    "        if G[user_index][i] !=0 and mean(G[:,i])>=3:\n",
    "            s2+=1\n",
    "            if G[user_index][i]<3:\n",
    "                s1+=1\n",
    "    if s2==0:\n",
    "        return 0\n",
    "    else:\n",
    "        return s1/s2"
   ]
  },
  {
   "cell_type": "code",
   "execution_count": 9,
   "metadata": {},
   "outputs": [],
   "source": [
    "def MSE(a):\n",
    "    s=0\n",
    "    counter=0\n",
    "    for i in a:\n",
    "        for j in i:\n",
    "            if j!=0:\n",
    "                s+=j**2\n",
    "                counter+=1\n",
    "    s=s/counter\n",
    "    return s"
   ]
  },
  {
   "cell_type": "code",
   "execution_count": 10,
   "metadata": {},
   "outputs": [],
   "source": [
    "def A_maker(G,G_mean):\n",
    "    ms=[]\n",
    "    for i in range(len(G)):\n",
    "        ms.append(mean(G[i]))\n",
    "        \n",
    "    A=np.zeros((m,1))\n",
    "    p_m=np.mean(personality)\n",
    "    for i in range(m):\n",
    "        if personality[i]<=p_m and ms[i]>=G_mean:\n",
    "            A[i]=1\n",
    "        elif personality[i]>p_m and ms[i]<G_mean:\n",
    "            A[i]=-1\n",
    "        else:\n",
    "            A[i]=0\n",
    "    return A"
   ]
  },
  {
   "cell_type": "code",
   "execution_count": 11,
   "metadata": {},
   "outputs": [],
   "source": [
    "def SVD(R,U,V,W,A,X,Y,l1,l2,l3,iteration,alpha):\n",
    "    mse=[]\n",
    "    for i in range(iteration):\n",
    "        G_p = U@V.T\n",
    "        G_p_m=rating_mean(G_p)\n",
    "        A=A_maker(G_p,G_p_m)\n",
    "        ru = l1*U-(np.multiply(np.multiply(W,(R-U@V.T)),W))@V\n",
    "        ru = ru+(l3*(X.T@V@U.T+((-1*Y).T))@A)[0,0]*A@(X.T@V)\n",
    "        U = U-(alpha*ru)\n",
    "        \n",
    "        rv = l2*V-(np.multiply(np.multiply(W.T,(R.T-V@U.T)),W.T)@U)\n",
    "        rv = rv + ((l3*A.T@(U@V.T@X-Y))[0,0])*X@(A.T@U)\n",
    "        V = V-(alpha*rv)\n",
    "        \n",
    "        mse.append(MSE(np.multiply(W,R-(U@V.T))))\n",
    "#         if i>3 and mse[-1]-mse[-3]<=0.0001:\n",
    "#             print('converged!')\n",
    "#             break\n",
    "        print( 'iteration '+str(i+1),end='\\r')\n",
    "    return U, V,mse"
   ]
  },
  {
   "cell_type": "code",
   "execution_count": 12,
   "metadata": {},
   "outputs": [
    {
     "name": "stdout",
     "output_type": "stream",
     "text": [
      "fold 1 0.9697208023394805\n",
      "fold 2 0.9577820895192516\n",
      "fold 3 0.9489334650360502\n",
      "fold 4 0.9465231492720102\n",
      "fold 5 0.9533242111201539\n"
     ]
    }
   ],
   "source": [
    "path='/kaggle/input/movielens-100k-dataset/ml-100k/'\n",
    "for p in (1, 2, 3, 4, 5):\n",
    "    data = pd.read_table(path+'u'+str(p)+'.base',header=None)\n",
    "    ratings = np.zeros((943,1682),dtype=int)\n",
    "    \n",
    "    for i in range(data.shape[0]):\n",
    "        ratings[data.iloc[i][0]-1][data.iloc[i][1]-1]=data.iloc[i][2]\n",
    "    G=ratings\n",
    "    \n",
    "    m=G.shape[0]\n",
    "    n=G.shape[1]\n",
    "    k=2\n",
    "    \n",
    "    U = np.ones((m,k))\n",
    "    V = np.ones((n,k))\n",
    "    \n",
    "    W=np.zeros((G.shape[0],G.shape[1]))\n",
    "    for i in range(G.shape[0]):\n",
    "        for j in range(G.shape[1]):\n",
    "            if G[i][j]!=0:\n",
    "                W[i][j]=1\n",
    "                \n",
    "    X=np.full((n,1),1/n)\n",
    "    \n",
    "    G_mean=rating_mean(G)\n",
    "\n",
    "    Y=np.full((m,1),G_mean)\n",
    "\n",
    "    l1=l2=0.05\n",
    "    l3=1\n",
    "    \n",
    "    personality=[]\n",
    "    for i in range(len(G)):\n",
    "        personality.append(optimism(G,i,G_mean)-pessimism(G,i,G_mean))\n",
    "    \n",
    "    A=A_maker(G,G_mean)\n",
    "    \n",
    "    u,v,mse=SVD(G,U,V,W,A,X,Y,l1,l2,l3,50,0.0002)\n",
    "    \n",
    "    data_test = pd.read_table(path+'u'+str(p)+'.test',header=None)\n",
    "    \n",
    "    rmse=0\n",
    "    rp=u@v.T\n",
    "    for i in range(data_test.shape[0]):\n",
    "        rmse+=(rp[data_test.iloc[i][0]-1][data_test.iloc[i][1]-1]-data_test.iloc[i][2])**2\n",
    "    rmse = rmse/data_test.shape[0]\n",
    "    rmse = np.sqrt(rmse)\n",
    "    print('fold '+str(p),end=' ')\n",
    "    print(rmse)"
   ]
  },
  {
   "cell_type": "code",
   "execution_count": null,
   "metadata": {},
   "outputs": [],
   "source": []
  }
 ],
 "metadata": {
  "kernelspec": {
   "display_name": "Python 3",
   "language": "python",
   "name": "python3"
  },
  "language_info": {
   "codemirror_mode": {
    "name": "ipython",
    "version": 3
   },
   "file_extension": ".py",
   "mimetype": "text/x-python",
   "name": "python",
   "nbconvert_exporter": "python",
   "pygments_lexer": "ipython3",
   "version": "3.6.6"
  }
 },
 "nbformat": 4,
 "nbformat_minor": 4
}
